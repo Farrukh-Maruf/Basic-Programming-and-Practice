{
 "cells": [
  {
   "cell_type": "code",
   "execution_count": 19,
   "id": "54a670e9",
   "metadata": {},
   "outputs": [],
   "source": [
    "import spacy\n",
    "import nltk\n",
    "nlp = spacy.load('en_core_web_sm')"
   ]
  },
  {
   "cell_type": "code",
   "execution_count": 20,
   "id": "70d09aca",
   "metadata": {},
   "outputs": [],
   "source": [
    "with open('C:\\\\Users\\\\PC\\\\Desktop\\\\nlp\\\\UPDATED_NLP_COURSE\\\\UPDATED_NLP_COURSE\\\\TextFiles\\\\owlcreek.txt', 'r') as f:\n",
    "    text =  f.read()\n",
    "doc = nlp(text)\n",
    "\n",
    "#print(doc)\n"
   ]
  },
  {
   "cell_type": "code",
   "execution_count": 79,
   "id": "001e508a",
   "metadata": {
    "scrolled": true
   },
   "outputs": [
    {
     "data": {
      "text/plain": [
       "AN OCCURRENCE AT OWL CREEK BRIDGE\n",
       "\n",
       "by Ambrose Bierce\n",
       "\n",
       "I\n",
       "\n",
       "A man stood upon a railroad bridge in northern Alabama, looking down\n",
       "into the swift water twenty feet below.  The man's hands were behind\n",
       "his back, the wrists bound with a cord.  A rope closely encircled his\n",
       "neck.  It was attached to a stout cross-timber above his head and the\n",
       "slack fell to the level of his knees.  Some loose boards laid upon the\n",
       "ties supporting the rails of"
      ]
     },
     "execution_count": 79,
     "metadata": {},
     "output_type": "execute_result"
    }
   ],
   "source": [
    "doc[:100]"
   ]
  },
  {
   "cell_type": "markdown",
   "id": "a160941d",
   "metadata": {},
   "source": [
    " How many tokens are contained in the file"
   ]
  },
  {
   "cell_type": "code",
   "execution_count": 30,
   "id": "b2ea7687",
   "metadata": {},
   "outputs": [
    {
     "data": {
      "text/plain": [
       "4835"
      ]
     },
     "execution_count": 30,
     "metadata": {},
     "output_type": "execute_result"
    }
   ],
   "source": [
    "len(doc)\n",
    "    "
   ]
  },
  {
   "cell_type": "code",
   "execution_count": 24,
   "id": "e4a65674",
   "metadata": {},
   "outputs": [
    {
     "name": "stderr",
     "output_type": "stream",
     "text": [
      "[nltk_data] Downloading package punkt to\n",
      "[nltk_data]     C:\\Users\\PC\\AppData\\Roaming\\nltk_data...\n",
      "[nltk_data]   Unzipping tokenizers\\punkt.zip.\n"
     ]
    },
    {
     "data": {
      "text/plain": [
       "True"
      ]
     },
     "execution_count": 24,
     "metadata": {},
     "output_type": "execute_result"
    }
   ],
   "source": [
    "nltk.download('punkt')"
   ]
  },
  {
   "cell_type": "code",
   "execution_count": 29,
   "id": "251a6262",
   "metadata": {},
   "outputs": [
    {
     "name": "stdout",
     "output_type": "stream",
     "text": [
      "209\n"
     ]
    }
   ],
   "source": [
    "sentences = nltk.sent_tokenize(text)\n",
    "print(f'{len(sentences)}')"
   ]
  },
  {
   "cell_type": "code",
   "execution_count": 76,
   "id": "7b0b9dc7",
   "metadata": {},
   "outputs": [],
   "source": [
    "doc_sent = [sent for sent in doc.sents]"
   ]
  },
  {
   "cell_type": "code",
   "execution_count": 77,
   "id": "63d6bc8f",
   "metadata": {},
   "outputs": [
    {
     "data": {
      "text/plain": [
       "205"
      ]
     },
     "execution_count": 77,
     "metadata": {},
     "output_type": "execute_result"
    }
   ],
   "source": [
    "len(doc_sent)"
   ]
  },
  {
   "cell_type": "code",
   "execution_count": 52,
   "id": "1b279d4c",
   "metadata": {
    "scrolled": true
   },
   "outputs": [
    {
     "name": "stdout",
     "output_type": "stream",
     "text": [
      "AN OCCURRENCE AT OWL CREEK BRIDGE\n",
      "\n",
      "by Ambrose Bierce\n",
      "\n",
      "I\n",
      "\n",
      "A man stood upon a railroad bridge in northern Alabama, looking down\n",
      "into the swift water twenty feet below.\n"
     ]
    }
   ],
   "source": [
    "first_sentence = list(doc.sents)[0].text\n",
    "print(first_sentence)"
   ]
  },
  {
   "cell_type": "code",
   "execution_count": 80,
   "id": "962ce8ba",
   "metadata": {},
   "outputs": [
    {
     "data": {
      "text/plain": [
       "'AN OCCURRENCE AT OWL CREEK BRIDGE\\n\\nby Ambrose Bierce\\n\\nI\\n\\nA man stood upon a railroad bridge in northern Alabama, looking down\\ninto the swift water twenty feet below.'"
      ]
     },
     "execution_count": 80,
     "metadata": {},
     "output_type": "execute_result"
    }
   ],
   "source": [
    "doc_sent[0].text"
   ]
  },
  {
   "cell_type": "code",
   "execution_count": 54,
   "id": "652e8b28",
   "metadata": {},
   "outputs": [],
   "source": [
    "from spacy import displacy"
   ]
  },
  {
   "cell_type": "code",
   "execution_count": 57,
   "id": "2da9ff4c",
   "metadata": {},
   "outputs": [],
   "source": [
    "from nltk.stem.porter import PorterStemmer\n",
    "stemmer = PorterStemmer()\n"
   ]
  },
  {
   "cell_type": "code",
   "execution_count": 89,
   "id": "f0003ef9",
   "metadata": {},
   "outputs": [],
   "source": [
    "doc1 = nlp(u'A man stood upon a railroad bridge in northern Alabama, looking down into the swift water twenty feet below.')"
   ]
  },
  {
   "cell_type": "code",
   "execution_count": 90,
   "id": "9941498f",
   "metadata": {},
   "outputs": [],
   "source": [
    "from nltk.stem.snowball import SnowballStemmer\n",
    "stem = SnowballStemmer(language='english')"
   ]
  },
  {
   "cell_type": "code",
   "execution_count": 91,
   "id": "29ffa581",
   "metadata": {},
   "outputs": [
    {
     "name": "stdout",
     "output_type": "stream",
     "text": [
      "A              DET       det       a         \n",
      "man            NOUN      nsubj     man       \n",
      "stood          VERB      ROOT      stand     \n",
      "upon           SCONJ     prep      upon      \n",
      "a              DET       det       a         \n",
      "railroad       NOUN      compound  railroad  \n",
      "bridge         NOUN      pobj      bridge    \n",
      "in             ADP       prep      in        \n",
      "northern       ADJ       amod      northern  \n",
      "Alabama        PROPN     pobj      Alabama   \n",
      ",              PUNCT     punct     ,         \n",
      "looking        VERB      advcl     look      \n",
      "down           ADP       prt       down      \n",
      "into           ADP       prep      into      \n",
      "the            DET       det       the       \n",
      "swift          ADJ       amod      swift     \n",
      "water          NOUN      pobj      water     \n",
      "twenty         NUM       nummod    twenty    \n",
      "feet           NOUN      npadvmod  foot      \n",
      "below          ADV       advmod    below     \n",
      ".              PUNCT     punct     .         \n"
     ]
    }
   ],
   "source": [
    "for token in doc1:\n",
    "    print(f'{token.text:{15}}{token.pos_:{10}}{token.dep_:{10}}{token.lemma_:{10}}') "
   ]
  },
  {
   "cell_type": "code",
   "execution_count": 101,
   "id": "85f4fccf",
   "metadata": {},
   "outputs": [],
   "source": [
    "from spacy.matcher import Matcher\n",
    "matcher = Matcher(nlp.vocab)"
   ]
  },
  {
   "cell_type": "code",
   "execution_count": 102,
   "id": "0cd56876",
   "metadata": {},
   "outputs": [],
   "source": [
    "pattern = [{'LOWER':'swimming'},{'IS_SPACE': True,'OP':'*'},{'LOWER':'vigorously'}]"
   ]
  },
  {
   "cell_type": "code",
   "execution_count": 106,
   "id": "cf5c321c",
   "metadata": {},
   "outputs": [],
   "source": [
    "matcher.add('Swimming',[pattern])"
   ]
  },
  {
   "cell_type": "markdown",
   "id": "b498448c",
   "metadata": {},
   "source": [
    "finding the matches\n"
   ]
  },
  {
   "cell_type": "code",
   "execution_count": 107,
   "id": "63ff134f",
   "metadata": {},
   "outputs": [
    {
     "name": "stdout",
     "output_type": "stream",
     "text": [
      "[(12881893835109366681, 1274, 1277), (12881893835109366681, 3609, 3612)]\n"
     ]
    }
   ],
   "source": [
    "found_matches = matcher(doc)\n",
    "print(found_matches)"
   ]
  },
  {
   "cell_type": "code",
   "execution_count": 108,
   "id": "b9a86197",
   "metadata": {},
   "outputs": [
    {
     "name": "stdout",
     "output_type": "stream",
     "text": [
      "the bullets and, swimming\n",
      "vigorously, reach the bank, take to the woods and get away home\n"
     ]
    }
   ],
   "source": [
    "print(doc[1270:1290])"
   ]
  },
  {
   "cell_type": "markdown",
   "id": "4d73cadb",
   "metadata": {},
   "source": [
    "lets find sentence contains each found match\n"
   ]
  },
  {
   "cell_type": "code",
   "execution_count": 109,
   "id": "75e407e3",
   "metadata": {},
   "outputs": [
    {
     "name": "stdout",
     "output_type": "stream",
     "text": [
      " By diving I could evade the bullets and, swimming\n",
      "vigorously, reach the bank, take to the woods and get away home.\n"
     ]
    }
   ],
   "source": [
    "for sentence in doc_sent:\n",
    "    if found_matches[0][1]< sentence.end:\n",
    "        print(sentence)\n",
    "        break\n",
    "        "
   ]
  },
  {
   "cell_type": "code",
   "execution_count": 110,
   "id": "0302c625",
   "metadata": {},
   "outputs": [
    {
     "name": "stdout",
     "output_type": "stream",
     "text": [
      "\n",
      "\n",
      "The hunted man saw all this over his shoulder; he was now swimming\n",
      "vigorously with the current.\n"
     ]
    }
   ],
   "source": [
    "for sentence in doc_sent:\n",
    "    if found_matches[1][1]< sentence.end:\n",
    "        print(sentence)\n",
    "        break\n",
    "        "
   ]
  },
  {
   "cell_type": "code",
   "execution_count": null,
   "id": "9474c5a9",
   "metadata": {},
   "outputs": [],
   "source": []
  }
 ],
 "metadata": {
  "kernelspec": {
   "display_name": "Python 3 (ipykernel)",
   "language": "python",
   "name": "python3"
  },
  "language_info": {
   "codemirror_mode": {
    "name": "ipython",
    "version": 3
   },
   "file_extension": ".py",
   "mimetype": "text/x-python",
   "name": "python",
   "nbconvert_exporter": "python",
   "pygments_lexer": "ipython3",
   "version": "3.9.13"
  }
 },
 "nbformat": 4,
 "nbformat_minor": 5
}
